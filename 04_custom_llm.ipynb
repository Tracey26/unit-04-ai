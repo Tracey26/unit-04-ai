{
 "cells": [
  {
   "cell_type": "code",
   "execution_count": 1,
   "metadata": {},
   "outputs": [],
   "source": [
    "import gpt_2_simple as gpt2\n",
    "\n",
    "session = gpt2.start_tf_sess()"
   ]
  },
  {
   "cell_type": "code",
   "execution_count": 2,
   "metadata": {},
   "outputs": [
    {
     "name": "stderr",
     "output_type": "stream",
     "text": [
      "WARNING: All log messages before absl::InitializeLog() is called are written to STDERR\n",
      "I0000 00:00:1732722722.132235 2593993 mlir_graph_optimization_pass.cc:401] MLIR V1 optimization pass is not enabled\n"
     ]
    },
    {
     "name": "stdout",
     "output_type": "stream",
     "text": [
      "Loading checkpoint models/124M/model.ckpt\n",
      "INFO:tensorflow:Restoring parameters from models/124M/model.ckpt\n",
      "Loading dataset...\n"
     ]
    },
    {
     "name": "stderr",
     "output_type": "stream",
     "text": [
      "100%|██████████| 1/1 [00:00<00:00, 1772.74it/s]"
     ]
    },
    {
     "name": "stdout",
     "output_type": "stream",
     "text": [
      "dataset has 1151 tokens\n",
      "Training...\n"
     ]
    },
    {
     "name": "stderr",
     "output_type": "stream",
     "text": [
      "\n"
     ]
    },
    {
     "name": "stdout",
     "output_type": "stream",
     "text": [
      "[1 | 20.91] loss=2.87 avg=2.87\n",
      "[2 | 41.74] loss=2.47 avg=2.67\n",
      "[3 | 61.28] loss=2.14 avg=2.49\n",
      "[4 | 80.52] loss=1.89 avg=2.34\n",
      "[5 | 99.95] loss=1.73 avg=2.21\n",
      "[6 | 119.27] loss=1.54 avg=2.10\n",
      "[7 | 138.42] loss=1.37 avg=1.99\n",
      "[8 | 157.39] loss=1.09 avg=1.87\n",
      "[9 | 176.35] loss=0.94 avg=1.77\n",
      "[10 | 195.44] loss=0.86 avg=1.67\n",
      "[11 | 214.63] loss=0.68 avg=1.58\n",
      "[12 | 234.32] loss=0.52 avg=1.48\n",
      "[13 | 252.82] loss=0.44 avg=1.40\n",
      "[14 | 271.75] loss=0.34 avg=1.32\n",
      "[15 | 290.27] loss=0.26 avg=1.24\n",
      "[16 | 309.12] loss=0.17 avg=1.17\n",
      "[17 | 327.73] loss=0.18 avg=1.11\n",
      "[18 | 346.10] loss=0.14 avg=1.05\n",
      "[19 | 364.32] loss=0.09 avg=0.99\n",
      "[20 | 381.89] loss=0.08 avg=0.94\n",
      "Saving checkpoint/custom_ai/model-20\n"
     ]
    }
   ],
   "source": [
    "gpt2.finetune(\n",
    "    session, \n",
    "\t\"pandas.txt\", \n",
    "\tmodel_name=\"124M\", \n",
    "\tsteps=20, \n",
    "\trun_name=\"custom_ai\"\n",
    ")"
   ]
  },
  {
   "cell_type": "code",
   "execution_count": 3,
   "metadata": {},
   "outputs": [
    {
     "name": "stdout",
     "output_type": "stream",
     "text": [
      "Q: What are pandas?\n",
      "A: Giant Pandas are mostly solitary animals with around 20-30 individuals with 3 to 4 bears in North America and Asia. Giant Pandas are more common in China than in the United States.\n",
      "\n",
      "Q: Do pandas come in different colors?\n",
      "A: Giant Pandas are only ever black and white there have only ever been 7 reported brown and white pandas with\n",
      "only one remaining.\n",
      "\n",
      "Q: Do pandas come in different colors?\n",
      "A: Giant Pandas are only ever black and white there have only ever been 7 reported black and white pandas with\n",
      "only one remaining.\n",
      "\n",
      "Q: Do pandas come in different colors?\n",
      "A: Giant Pandas are only ever black and white there have only ever been 7 reported black and white pandas with\n",
      "only one remaining.\n",
      "\n",
      "Q: Do pandas come in different colors?\n",
      "A: Giant Pandas are only ever black and white there have only ever been 7 reported black and white pandas with\n",
      "only one remaining.\n",
      "\n",
      "Q: Do pandas come in different colors?\n",
      "A: Giant Pandas are only ever black and white there have only ever been 7 reported black and white pandas with\n",
      "only one remaining.\n",
      "\n",
      "Q: Do pandas come in different colors?\n",
      "A: Giant Pandas are only ever black and white there have only ever been 7 reported black and white pandas with\n",
      "only one remaining.\n",
      "\n",
      "Q: Are pandas typically very active or lazy?\n",
      "A: Giant Pandas are mostly active or lazy about keeping the house healthy.\n",
      "\n",
      "Q: What is a typical day for a pandas?\n",
      "A: The day that a pandas dozes off.\n",
      "\n",
      "Q: What is the purpose of a typical day for a pandas?\n",
      "A: The natural state of the bamboo forest.\n",
      "\n",
      "Q: What animal is the panda related to?\n",
      "A: The panda that is responsible for the panda's yellow and black fur.\n",
      "\n",
      "Q: Are pandas helpful for our enviornment?\n",
      "A: The amount of animaleral hardy habitat the panda has.\n",
      "\n",
      "Q: Are pandas helpful in the fight against dengue enviornment?\n",
      "A: The amount of bamboo forest cover the panda has.\n",
      "\n",
      "Q: Are pandas helpful in the local population?\n",
      "A: The number of pandas in the local population.\n",
      "\n",
      "Q: Are pandas helpful in the central African arid region?\n",
      "A: The number of pandas in the central African arid region.\n",
      "\n",
      "Q: Are there any known pandas with brown and white fur?\n",
      "A: There are no known brown and white fur.\n",
      "\n",
      "Q: How long have pandas been documented as a wild pandas?\n",
      "A: The number of pandas recorded as a wild pandas.\n",
      "\n",
      "Q: Are pandas typically docile?\n",
      "A: The number of pandas actually left in the world.\n",
      "\n",
      "Q: Are pandas helpful for the enviornment of countries?\n",
      "A: The number of countries that have pandas as a pest.\n",
      "\n",
      "Q: Are pandas helpful in the enforcement of anti-p pandas laws?\n",
      "A: The number of anti-p pandas laws in existence.\n",
      "\n",
      "Q: Are pandas endemic to China?\n",
      "A: The number of pandas endemic to China.\n",
      "\n",
      "Q: Are pandas endemic to the United States?\n",
      "A: The number of pandas endemic to the United States.\n",
      "\n",
      "Q: Are pandas endemic to the Falkland Islands?\n",
      "A: The number of pandas endemic to the Falkland Islands.\n",
      "\n",
      "Q: Are pandas endemic to the Hinterland?\n",
      "A: The number of pandas endemic to the Hinterland.\n",
      "\n",
      "Q: Are pandas endemic to the Republic of Korea?\n",
      "A: The number of pandas endemic to the Republic of Korea.\n",
      "\n",
      "Q: Are pandas endemic to the state of South Korea?\n",
      "A: The number of pandas endemic to the state of South Korea.\n",
      "\n",
      "Q: Are pandas endemic to the sub-Antarctic?\n",
      "A: The number of pandas endemic to the sub-Antarctic.\n",
      "\n",
      "Q: Are pandas endemic to the latitudes of North and South America?\n",
      "A: The number of pandas endemic to the latitudes of North and South America.\n",
      "\n",
      "Q: Are pandas endemic to the tropics?\n",
      "A: The number of pandas endemic to the tropics.\n",
      "\n",
      "Q: Are pandas endemic to the sub-Arctic?\n",
      "A: The number of pandas endemic to the sub-Arctic.\n",
      "\n",
      "Q: Are pandas endemic to the equatorial Pacific?\n",
      "A: The number of pandas endemic to the equatorial Pacific.\n",
      "\n",
      "Q\n"
     ]
    }
   ],
   "source": [
    "gpt2.generate(session, prefix=\"Q: What are pandas?\")"
   ]
  }
 ],
 "metadata": {
  "kernelspec": {
   "display_name": "Python 3",
   "language": "python",
   "name": "python3"
  },
  "language_info": {
   "codemirror_mode": {
    "name": "ipython",
    "version": 3
   },
   "file_extension": ".py",
   "mimetype": "text/x-python",
   "name": "python",
   "nbconvert_exporter": "python",
   "pygments_lexer": "ipython3",
   "version": "3.10.8"
  },
  "orig_nbformat": 4,
  "vscode": {
   "interpreter": {
    "hash": "b0fa6594d8f4cbf19f97940f81e996739fb7646882a419484c72d19e05852a7e"
   }
  }
 },
 "nbformat": 4,
 "nbformat_minor": 2
}
